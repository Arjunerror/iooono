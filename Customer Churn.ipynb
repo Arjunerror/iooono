{
  "nbformat": 4,
  "nbformat_minor": 0,
  "metadata": {
    "colab": {
      "provenance": [],
      "authorship_tag": "ABX9TyNsqLMCT7/H7vOu3E6RFH3w",
      "include_colab_link": true
    },
    "kernelspec": {
      "name": "python3",
      "display_name": "Python 3"
    },
    "language_info": {
      "name": "python"
    }
  },
  "cells": [
    {
      "cell_type": "markdown",
      "metadata": {
        "id": "view-in-github",
        "colab_type": "text"
      },
      "source": [
        "<a href=\"https://colab.research.google.com/github/Arjunerror/iooono/blob/main/Customer%20Churn.ipynb\" target=\"_parent\"><img src=\"https://colab.research.google.com/assets/colab-badge.svg\" alt=\"Open In Colab\"/></a>"
      ]
    },
    {
      "cell_type": "code",
      "execution_count": 3,
      "metadata": {
        "id": "7QnHlZgsV2iX"
      },
      "outputs": [],
      "source": [
        "import numpy as np\n",
        "import pandas as pd\n",
        "import os\n",
        "for dirname, _, filenames in os.walk('/kaggle/input'):\n",
        "    for filename in filenames:\n",
        "        print(os.path.join(dirname, filename))"
      ]
    },
    {
      "cell_type": "code",
      "source": [
        "df = pd.read_csv('/content/WA_Fn-UseC_-Telco-Customer-Churn.csv')\n",
        "df.head()"
      ],
      "metadata": {
        "id": "risPe8dqWJ_s"
      },
      "execution_count": null,
      "outputs": []
    },
    {
      "cell_type": "code",
      "source": [
        "df.columns = df.columns.str.lower().str.replace(' ', '_')\n",
        "\n",
        "categorical_columns = list(df.dtypes[df.dtypes == 'object'].index)\n",
        "\n",
        "for c in categorical_columns:\n",
        "    df[c] = df[c].str.lower().str.replace(' ', '_')"
      ],
      "metadata": {
        "id": "Mj8P_Ny-XyBF"
      },
      "execution_count": 6,
      "outputs": []
    },
    {
      "cell_type": "code",
      "source": [
        "df.head().T"
      ],
      "metadata": {
        "id": "rN6ej1q9X2KQ"
      },
      "execution_count": null,
      "outputs": []
    },
    {
      "cell_type": "code",
      "source": [
        "df.totalcharges"
      ],
      "metadata": {
        "id": "5QfGbZ3EX93U"
      },
      "execution_count": null,
      "outputs": []
    },
    {
      "cell_type": "code",
      "source": [
        "df.totalcharges = pd.to_numeric(df.totalcharges, errors='coerce')"
      ],
      "metadata": {
        "id": "ayNYIezQYEfc"
      },
      "execution_count": 9,
      "outputs": []
    },
    {
      "cell_type": "code",
      "source": [
        "df.totalcharges = df.totalcharges.fillna(0)"
      ],
      "metadata": {
        "id": "8S9XohzrYJdP"
      },
      "execution_count": 10,
      "outputs": []
    },
    {
      "cell_type": "code",
      "source": [
        "df.churn = (df.churn == 'yes').astype(int)"
      ],
      "metadata": {
        "id": "hM0VKPlNYKXA"
      },
      "execution_count": 11,
      "outputs": []
    },
    {
      "cell_type": "code",
      "source": [
        "df['churn']"
      ],
      "metadata": {
        "id": "ftEJ71XKYPnY"
      },
      "execution_count": null,
      "outputs": []
    },
    {
      "cell_type": "code",
      "source": [
        "from sklearn.model_selection import train_test_split"
      ],
      "metadata": {
        "id": "m6CdLU9UYTth"
      },
      "execution_count": 13,
      "outputs": []
    },
    {
      "cell_type": "code",
      "source": [
        "df_full_train, df_test = train_test_split(df, test_size=0.2, random_state=1)\n",
        "df_train, df_val = train_test_split(df_full_train, test_size=0.25, random_state=1)"
      ],
      "metadata": {
        "id": "5fpPr7MrYZdM"
      },
      "execution_count": 14,
      "outputs": []
    },
    {
      "cell_type": "code",
      "source": [
        "df_test.head()"
      ],
      "metadata": {
        "id": "aO2I7anBYczj"
      },
      "execution_count": null,
      "outputs": []
    },
    {
      "cell_type": "code",
      "source": [
        "len(df_train), len(df_val), len(df_test)"
      ],
      "metadata": {
        "id": "UmeszxYkYgzA"
      },
      "execution_count": null,
      "outputs": []
    },
    {
      "cell_type": "code",
      "source": [
        "df_train = df_train.reset_index(drop=True)\n",
        "df_val = df_val.reset_index(drop=True)\n",
        "df_test = df_test.reset_index(drop=True)"
      ],
      "metadata": {
        "id": "OoqVCytsYlAA"
      },
      "execution_count": 17,
      "outputs": []
    },
    {
      "cell_type": "code",
      "source": [
        "y_train = df_train.churn.values\n",
        "y_val = df_val.churn.values\n",
        "y_test = df_test.churn.values\n",
        "\n",
        "del df_train['churn']\n",
        "del df_val['churn']\n",
        "del df_test['churn']"
      ],
      "metadata": {
        "id": "8uyVBpPxYtyd"
      },
      "execution_count": 19,
      "outputs": []
    },
    {
      "cell_type": "code",
      "source": [
        "df_full_train = df_full_train.reset_index(drop=True)"
      ],
      "metadata": {
        "id": "EWq9a_EpYwsv"
      },
      "execution_count": 18,
      "outputs": []
    },
    {
      "cell_type": "code",
      "source": [
        "df_full_train.isnull().sum()"
      ],
      "metadata": {
        "id": "93vODyyTYxiz"
      },
      "execution_count": null,
      "outputs": []
    },
    {
      "cell_type": "code",
      "source": [
        "df_full_train.churn.value_counts(normalize=True)"
      ],
      "metadata": {
        "id": "wh-hEgz3Y6m4"
      },
      "execution_count": null,
      "outputs": []
    },
    {
      "cell_type": "code",
      "source": [
        "df_full_train.churn.mean()"
      ],
      "metadata": {
        "id": "u0j_Anh-Y7er"
      },
      "execution_count": null,
      "outputs": []
    },
    {
      "cell_type": "code",
      "source": [
        "numerical = ['tenure', 'monthlycharges', 'totalcharges']"
      ],
      "metadata": {
        "id": "YPwJ5KElY7xb"
      },
      "execution_count": 23,
      "outputs": []
    },
    {
      "cell_type": "code",
      "source": [
        "categorical = [\n",
        "    'gender',\n",
        "    'seniorcitizen',\n",
        "    'partner',\n",
        "    'dependents',\n",
        "    'phoneservice',\n",
        "    'multiplelines',\n",
        "    'internetservice',\n",
        "    'onlinesecurity',\n",
        "    'onlinebackup',\n",
        "    'deviceprotection',\n",
        "    'techsupport',\n",
        "    'streamingtv',\n",
        "    'streamingmovies',\n",
        "    'contract',\n",
        "    'paperlessbilling',\n",
        "    'paymentmethod',\n",
        "]"
      ],
      "metadata": {
        "id": "8OXAxcUFY70Y"
      },
      "execution_count": 24,
      "outputs": []
    },
    {
      "cell_type": "code",
      "source": [
        "df_full_train[categorical].nunique()"
      ],
      "metadata": {
        "id": "fNrfvrLnY731"
      },
      "execution_count": null,
      "outputs": []
    },
    {
      "cell_type": "code",
      "source": [
        "df_full_train.head()"
      ],
      "metadata": {
        "id": "FDWAiE2GZePx"
      },
      "execution_count": null,
      "outputs": []
    },
    {
      "cell_type": "code",
      "source": [
        "churn_male = df_full_train[df_full_train.gender == 'male'].churn.mean()\n",
        "churn_male"
      ],
      "metadata": {
        "id": "w3uYcLTjZeUh"
      },
      "execution_count": null,
      "outputs": []
    },
    {
      "cell_type": "code",
      "source": [
        "churn_female = df_full_train[df_full_train.gender == 'female'].churn.mean()\n",
        "churn_female"
      ],
      "metadata": {
        "id": "oOUKKpG2ZeSE"
      },
      "execution_count": null,
      "outputs": []
    },
    {
      "cell_type": "code",
      "source": [
        "global_churn = df_full_train.churn.mean()\n",
        "global_churn"
      ],
      "metadata": {
        "id": "5ULXEfQnZeWf"
      },
      "execution_count": null,
      "outputs": []
    },
    {
      "cell_type": "code",
      "source": [
        "df_full_train.partner.value_counts()"
      ],
      "metadata": {
        "id": "pAzbZP5RZeYy"
      },
      "execution_count": null,
      "outputs": []
    },
    {
      "cell_type": "code",
      "source": [
        "churn_partner = df_full_train[df_full_train.partner == 'yes'].churn.mean()\n",
        "churn_partner"
      ],
      "metadata": {
        "id": "LFc-a419Zea-"
      },
      "execution_count": null,
      "outputs": []
    },
    {
      "cell_type": "code",
      "source": [
        "churn_no_partner = df_full_train[df_full_train.partner == 'no'].churn.mean()\n",
        "churn_no_partner"
      ],
      "metadata": {
        "id": "jXHGZX4IZedH"
      },
      "execution_count": null,
      "outputs": []
    },
    {
      "cell_type": "code",
      "source": [
        "churn_no_partner / global_churn"
      ],
      "metadata": {
        "id": "2yJGSfMiZefR"
      },
      "execution_count": null,
      "outputs": []
    },
    {
      "cell_type": "code",
      "source": [
        "churn_partner / global_churn"
      ],
      "metadata": {
        "id": "0KT29b4GZehP"
      },
      "execution_count": null,
      "outputs": []
    },
    {
      "cell_type": "markdown",
      "source": [
        "SELECT gender, AVG(churn), AVG(churn) - global_churn AS diff, AVG(churn) / global_churn AS risk FROM data GROUP BY gender;"
      ],
      "metadata": {
        "id": "rPQbeq-BaUaM"
      }
    },
    {
      "cell_type": "code",
      "source": [
        "from IPython.display import display\n",
        "for c in categorical:\n",
        "    print(c)\n",
        "    df_group = df_full_train.groupby(c).churn.agg(['mean', 'count'])\n",
        "    df_group['diff'] = df_group['mean'] - global_churn\n",
        "    df_group['risk'] = df_group['mean'] / global_churn\n",
        "    display(df_group)"
      ],
      "metadata": {
        "id": "3Gdp9-lrZejk"
      },
      "execution_count": null,
      "outputs": []
    },
    {
      "cell_type": "code",
      "source": [
        "from sklearn.metrics import mutual_info_score"
      ],
      "metadata": {
        "id": "wZxNfPKJZelk"
      },
      "execution_count": 36,
      "outputs": []
    },
    {
      "cell_type": "code",
      "source": [
        "mutual_info_score(df_full_train.churn, df_full_train.contract)"
      ],
      "metadata": {
        "id": "gObnJCLXZepC"
      },
      "execution_count": null,
      "outputs": []
    },
    {
      "cell_type": "code",
      "source": [
        "mutual_info_score(df_full_train.gender, df_full_train.churn)"
      ],
      "metadata": {
        "id": "gUqehppea4jN"
      },
      "execution_count": null,
      "outputs": []
    },
    {
      "cell_type": "code",
      "source": [
        "mutual_info_score(df_full_train.contract, df_full_train.churn)"
      ],
      "metadata": {
        "id": "ZD-ymbdfa4lQ"
      },
      "execution_count": null,
      "outputs": []
    },
    {
      "cell_type": "code",
      "source": [
        "mutual_info_score(df_full_train.partner, df_full_train.churn)"
      ],
      "metadata": {
        "id": "ihg1-E42a4nH"
      },
      "execution_count": null,
      "outputs": []
    },
    {
      "cell_type": "code",
      "source": [
        "def mutual_info_churn_score(series):\n",
        "    return mutual_info_score(series, df_full_train.churn)"
      ],
      "metadata": {
        "id": "di2MnC1Ba4pG"
      },
      "execution_count": 41,
      "outputs": []
    },
    {
      "cell_type": "code",
      "source": [
        "mi = df_full_train[categorical].apply(mutual_info_churn_score)\n",
        "mi.sort_values(ascending=False)"
      ],
      "metadata": {
        "id": "mWmGHr7ba4rO"
      },
      "execution_count": null,
      "outputs": []
    },
    {
      "cell_type": "code",
      "source": [
        "df_full_train[numerical].corrwith(df_full_train.churn)"
      ],
      "metadata": {
        "id": "b2uNArITa4t2"
      },
      "execution_count": null,
      "outputs": []
    },
    {
      "cell_type": "code",
      "source": [
        "df_full_train[df_full_train.tenure >= 2].churn.mean()"
      ],
      "metadata": {
        "id": "_bClrwCSa4vz"
      },
      "execution_count": null,
      "outputs": []
    },
    {
      "cell_type": "code",
      "source": [
        "df_full_train[(df_full_train.tenure > 2) & (df_full_train.tenure <= 12)].churn.mean()"
      ],
      "metadata": {
        "id": "1WOA9FCea4zR"
      },
      "execution_count": null,
      "outputs": []
    },
    {
      "cell_type": "code",
      "source": [
        "df_full_train[df_full_train.tenure > 12].churn.mean()"
      ],
      "metadata": {
        "id": "6P31qfnibtwU"
      },
      "execution_count": null,
      "outputs": []
    },
    {
      "cell_type": "code",
      "source": [
        "from sklearn.feature_extraction import DictVectorizer"
      ],
      "metadata": {
        "id": "gmjg2rZXbtyf"
      },
      "execution_count": 47,
      "outputs": []
    },
    {
      "cell_type": "code",
      "source": [
        "df_train[['gender','contract','tenure']].iloc[:10].to_dict(orient='records')"
      ],
      "metadata": {
        "id": "Bu7tXDYabt1O"
      },
      "execution_count": null,
      "outputs": []
    },
    {
      "cell_type": "code",
      "source": [
        "dicts = df_train[['gender','contract','tenure']].iloc[:100].to_dict(orient='records')\n",
        "dv = DictVectorizer(sparse=False)"
      ],
      "metadata": {
        "id": "5YHoXeQfbt4I"
      },
      "execution_count": 49,
      "outputs": []
    },
    {
      "cell_type": "code",
      "source": [
        "dv.fit(dicts)"
      ],
      "metadata": {
        "id": "VHpDMt9Jbt69"
      },
      "execution_count": null,
      "outputs": []
    },
    {
      "cell_type": "code",
      "source": [
        "dv.get_feature_names_out()"
      ],
      "metadata": {
        "id": "x-Ph5xcobt_h"
      },
      "execution_count": null,
      "outputs": []
    },
    {
      "cell_type": "code",
      "source": [
        "dv.transform(dicts)"
      ],
      "metadata": {
        "id": "p2tjmB_5buC_"
      },
      "execution_count": null,
      "outputs": []
    },
    {
      "cell_type": "code",
      "source": [
        "dv = DictVectorizer(sparse=False)\n",
        "\n",
        "train_dict = df_train[categorical + numerical].to_dict(orient='records')\n",
        "print(type(train_dict))\n",
        "X_train = dv.fit_transform(train_dict)\n",
        "X_train"
      ],
      "metadata": {
        "id": "Czh5HthHcLgl"
      },
      "execution_count": null,
      "outputs": []
    },
    {
      "cell_type": "code",
      "source": [
        "dv.get_feature_names_out()"
      ],
      "metadata": {
        "id": "2o7K2NVycLi8"
      },
      "execution_count": null,
      "outputs": []
    },
    {
      "cell_type": "code",
      "source": [
        "val_dict = df_val[categorical + numerical].to_dict(orient='records')\n",
        "X_val = dv.transform(val_dict)\n",
        "X_val"
      ],
      "metadata": {
        "id": "Uqhg8IovcLlQ"
      },
      "execution_count": null,
      "outputs": []
    },
    {
      "cell_type": "code",
      "source": [
        "def sigmoid(z):\n",
        "    return 1 / (1 + np.exp(-z))"
      ],
      "metadata": {
        "id": "fb2cSPSdcLnu"
      },
      "execution_count": 56,
      "outputs": []
    },
    {
      "cell_type": "code",
      "source": [
        "z = np.linspace(-7, 7, 51)\n",
        "z"
      ],
      "metadata": {
        "id": "Gn68uXpccLqN"
      },
      "execution_count": null,
      "outputs": []
    },
    {
      "cell_type": "code",
      "source": [
        "sigmoid(10000)"
      ],
      "metadata": {
        "id": "cAd4FTxlcLso"
      },
      "execution_count": null,
      "outputs": []
    },
    {
      "cell_type": "code",
      "source": [
        "import matplotlib.pyplot as plt\n",
        "plt.plot(z, sigmoid(z))"
      ],
      "metadata": {
        "id": "7Ov3cPCOcLvJ"
      },
      "execution_count": null,
      "outputs": []
    },
    {
      "cell_type": "code",
      "source": [
        "def linear_regression(xi):\n",
        "    result = w0\n",
        "\n",
        "    for j in range(len(w)):\n",
        "        result = result + xi[j] * w[j]\n",
        "\n",
        "    return result"
      ],
      "metadata": {
        "id": "RAGKQFwncLxZ"
      },
      "execution_count": 61,
      "outputs": []
    },
    {
      "cell_type": "code",
      "source": [
        "def logistic_regression(xi):\n",
        "    score = w0\n",
        "\n",
        "    for j in range(len(w)):\n",
        "        score = score + xi[j] * w[j]\n",
        "\n",
        "    result = sigmoid(score)\n",
        "    return result"
      ],
      "metadata": {
        "id": "sYnV_5W-cLzq"
      },
      "execution_count": 62,
      "outputs": []
    },
    {
      "cell_type": "code",
      "source": [
        "from sklearn.linear_model import LogisticRegression"
      ],
      "metadata": {
        "id": "Stc0_85JcL1-"
      },
      "execution_count": 63,
      "outputs": []
    },
    {
      "cell_type": "code",
      "source": [
        "model = LogisticRegression(solver='lbfgs')\n",
        "model.fit(X_train, y_train)"
      ],
      "metadata": {
        "id": "2W0MPtIScL5Z"
      },
      "execution_count": null,
      "outputs": []
    },
    {
      "cell_type": "code",
      "source": [
        "model.intercept_[0]"
      ],
      "metadata": {
        "id": "d89fwoDudHEQ"
      },
      "execution_count": null,
      "outputs": []
    },
    {
      "cell_type": "code",
      "source": [
        "model.coef_[0]"
      ],
      "metadata": {
        "id": "3W5BHhmJdHHo"
      },
      "execution_count": null,
      "outputs": []
    },
    {
      "cell_type": "code",
      "source": [
        "model.predict_proba(X_val)"
      ],
      "metadata": {
        "id": "p0RPd8eqdHRF"
      },
      "execution_count": null,
      "outputs": []
    }
  ]
}